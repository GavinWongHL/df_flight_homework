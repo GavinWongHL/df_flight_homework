{
 "cells": [
  {
   "cell_type": "code",
   "execution_count": null,
   "id": "abf8ea0d-45ed-477a-be87-58dca8e8f472",
   "metadata": {},
   "outputs": [],
   "source": [
    "# 1 Average departure delay of each airline per airport\n",
    "\n",
    "# AIRLINE\n",
    "# ORIGIN AIRPORT\n",
    "# Total number of flight\n",
    "# OPERATED RATE (non cancel rate)\n",
    "# DELAY RATE (DEPARTURE)\n",
    "# AVERAGE DELAY MINUTES (do not count early arrival)\n"
   ]
  },
  {
   "cell_type": "code",
   "execution_count": 1,
   "id": "225f6ba9-e537-49f4-b87b-5f2cb3bd222b",
   "metadata": {
    "tags": []
   },
   "outputs": [],
   "source": [
    "import pandas as pd\n",
    "import numpy as np"
   ]
  },
  {
   "cell_type": "code",
   "execution_count": 2,
   "id": "53ebea8f-d5da-4999-af55-1c9b072ef36f",
   "metadata": {},
   "outputs": [
    {
     "name": "stderr",
     "output_type": "stream",
     "text": [
      "/var/folders/68/rv4nttt14v19fs_fppl9tzvc0000gn/T/ipykernel_35557/4208662450.py:3: DtypeWarning: Columns (7,8) have mixed types. Specify dtype option on import or set low_memory=False.\n",
      "  df_flights = pd.read_csv('flights.csv')\n"
     ]
    }
   ],
   "source": [
    "df_airports = pd.read_csv('airports.csv')\n",
    "df_airlines = pd.read_csv('airlines.csv')\n",
    "df_flights = pd.read_csv('flights.csv')"
   ]
  },
  {
   "cell_type": "code",
   "execution_count": 24,
   "id": "963f651a-2f21-47d8-91b2-3888ec928b33",
   "metadata": {},
   "outputs": [],
   "source": [
    "df_flights['DELAY_MINUTES'] = df_flights['ARRIVAL_DELAY'].apply(lambda x: 0 if x < 0 else x)"
   ]
  },
  {
   "cell_type": "code",
   "execution_count": 30,
   "id": "3d61d911-db56-4321-b9e0-911d5865cc29",
   "metadata": {},
   "outputs": [],
   "source": [
    "df_flights['DELAYED'] = df_flights['ARRIVAL_DELAY'].apply(lambda x: 1 if x > 0 else 0)"
   ]
  },
  {
   "cell_type": "code",
   "execution_count": 47,
   "id": "251a32b4-81cd-4ba2-a05b-b5d99311351d",
   "metadata": {
    "tags": []
   },
   "outputs": [
    {
     "data": {
      "text/html": [
       "<div>\n",
       "<style scoped>\n",
       "    .dataframe tbody tr th:only-of-type {\n",
       "        vertical-align: middle;\n",
       "    }\n",
       "\n",
       "    .dataframe tbody tr th {\n",
       "        vertical-align: top;\n",
       "    }\n",
       "\n",
       "    .dataframe thead th {\n",
       "        text-align: right;\n",
       "    }\n",
       "</style>\n",
       "<table border=\"1\" class=\"dataframe\">\n",
       "  <thead>\n",
       "    <tr style=\"text-align: right;\">\n",
       "      <th></th>\n",
       "      <th></th>\n",
       "      <th>TOTAL_NUMBER_OF_FLIGHT</th>\n",
       "      <th>OPERATED_RATE</th>\n",
       "      <th>DELAYED_RATE</th>\n",
       "      <th>DELAY_MINUTES</th>\n",
       "    </tr>\n",
       "    <tr>\n",
       "      <th>AIRLINE</th>\n",
       "      <th>ORIGIN_AIRPORT</th>\n",
       "      <th></th>\n",
       "      <th></th>\n",
       "      <th></th>\n",
       "      <th></th>\n",
       "    </tr>\n",
       "  </thead>\n",
       "  <tbody>\n",
       "    <tr>\n",
       "      <th rowspan=\"5\" valign=\"top\">AA</th>\n",
       "      <th>10140</th>\n",
       "      <td>174</td>\n",
       "      <td>97.70114942528735%</td>\n",
       "      <td>23.563218390804597%</td>\n",
       "      <td>11.621302</td>\n",
       "    </tr>\n",
       "    <tr>\n",
       "      <th>10257</th>\n",
       "      <td>80</td>\n",
       "      <td>100.0%</td>\n",
       "      <td>26.25%</td>\n",
       "      <td>5.734177</td>\n",
       "    </tr>\n",
       "    <tr>\n",
       "      <th>10299</th>\n",
       "      <td>32</td>\n",
       "      <td>100.0%</td>\n",
       "      <td>25.0%</td>\n",
       "      <td>3.343750</td>\n",
       "    </tr>\n",
       "    <tr>\n",
       "      <th>10397</th>\n",
       "      <td>917</td>\n",
       "      <td>99.23664122137404%</td>\n",
       "      <td>27.044711014176663%</td>\n",
       "      <td>6.518722</td>\n",
       "    </tr>\n",
       "    <tr>\n",
       "      <th>10423</th>\n",
       "      <td>786</td>\n",
       "      <td>98.09160305343511%</td>\n",
       "      <td>19.21119592875318%</td>\n",
       "      <td>9.879064</td>\n",
       "    </tr>\n",
       "    <tr>\n",
       "      <th>...</th>\n",
       "      <th>...</th>\n",
       "      <td>...</td>\n",
       "      <td>...</td>\n",
       "      <td>...</td>\n",
       "      <td>...</td>\n",
       "    </tr>\n",
       "    <tr>\n",
       "      <th rowspan=\"5\" valign=\"top\">WN</th>\n",
       "      <th>SNA</th>\n",
       "      <td>17197</td>\n",
       "      <td>99.12775484096063%</td>\n",
       "      <td>37.98918416002791%</td>\n",
       "      <td>8.574289</td>\n",
       "    </tr>\n",
       "    <tr>\n",
       "      <th>STL</th>\n",
       "      <td>27753</td>\n",
       "      <td>98.89021006738011%</td>\n",
       "      <td>36.74918026879977%</td>\n",
       "      <td>11.612311</td>\n",
       "    </tr>\n",
       "    <tr>\n",
       "      <th>TPA</th>\n",
       "      <td>25888</td>\n",
       "      <td>99.10769468479604%</td>\n",
       "      <td>34.2398022249691%</td>\n",
       "      <td>11.085972</td>\n",
       "    </tr>\n",
       "    <tr>\n",
       "      <th>TUL</th>\n",
       "      <td>4098</td>\n",
       "      <td>99.24353343094192%</td>\n",
       "      <td>33.38213762811127%</td>\n",
       "      <td>10.799359</td>\n",
       "    </tr>\n",
       "    <tr>\n",
       "      <th>TUS</th>\n",
       "      <td>4201</td>\n",
       "      <td>99.52392287550583%</td>\n",
       "      <td>33.89669126398476%</td>\n",
       "      <td>9.332694</td>\n",
       "    </tr>\n",
       "  </tbody>\n",
       "</table>\n",
       "<p>3437 rows × 4 columns</p>\n",
       "</div>"
      ],
      "text/plain": [
       "                        TOTAL_NUMBER_OF_FLIGHT       OPERATED_RATE  \\\n",
       "AIRLINE ORIGIN_AIRPORT                                               \n",
       "AA      10140                              174  97.70114942528735%   \n",
       "        10257                               80              100.0%   \n",
       "        10299                               32              100.0%   \n",
       "        10397                              917  99.23664122137404%   \n",
       "        10423                              786  98.09160305343511%   \n",
       "...                                        ...                 ...   \n",
       "WN      SNA                              17197  99.12775484096063%   \n",
       "        STL                              27753  98.89021006738011%   \n",
       "        TPA                              25888  99.10769468479604%   \n",
       "        TUL                               4098  99.24353343094192%   \n",
       "        TUS                               4201  99.52392287550583%   \n",
       "\n",
       "                               DELAYED_RATE  DELAY_MINUTES  \n",
       "AIRLINE ORIGIN_AIRPORT                                      \n",
       "AA      10140           23.563218390804597%      11.621302  \n",
       "        10257                        26.25%       5.734177  \n",
       "        10299                         25.0%       3.343750  \n",
       "        10397           27.044711014176663%       6.518722  \n",
       "        10423            19.21119592875318%       9.879064  \n",
       "...                                     ...            ...  \n",
       "WN      SNA              37.98918416002791%       8.574289  \n",
       "        STL              36.74918026879977%      11.612311  \n",
       "        TPA               34.2398022249691%      11.085972  \n",
       "        TUL              33.38213762811127%      10.799359  \n",
       "        TUS              33.89669126398476%       9.332694  \n",
       "\n",
       "[3437 rows x 4 columns]"
      ]
     },
     "execution_count": 47,
     "metadata": {},
     "output_type": "execute_result"
    }
   ],
   "source": [
    "df_homework = df_flights.groupby(['AIRLINE','ORIGIN_AIRPORT']).agg({'FLIGHT_NUMBER':'count','CANCELLED':'sum','DELAY_MINUTES':'mean','DELAYED':'sum'})\n",
    "df_homework['OPERATED_RATE'] = df_homework['CANCELLED']/df_homework['FLIGHT_NUMBER']\n",
    "df_homework['OPERATED_RATE'] = df_homework['OPERATED_RATE'].apply(lambda x: str(100 - x * 100) +'%')\n",
    "df_homework['DELAYED_RATE'] = df_homework['DELAYED']/df_homework['FLIGHT_NUMBER']\n",
    "df_homework['DELAYED_RATE'] = df_homework['DELAYED_RATE'].apply(lambda x: str(x * 100) +'%')\n",
    "df_homework.drop(columns = ['CANCELLED' , 'DELAYED'] , inplace = True)\n",
    "df_homework.rename(columns={'FLIGHT_NUMBER':'TOTAL_NUMBER_OF_FLIGHT'},inplace =True)\n",
    "df_homework = df_homework[['TOTAL_NUMBER_OF_FLIGHT','OPERATED_RATE','DELAYED_RATE','DELAY_MINUTES']]\n",
    "df_homework"
   ]
  }
 ],
 "metadata": {
  "kernelspec": {
   "display_name": "Python 3 (ipykernel)",
   "language": "python",
   "name": "python3"
  },
  "language_info": {
   "codemirror_mode": {
    "name": "ipython",
    "version": 3
   },
   "file_extension": ".py",
   "mimetype": "text/x-python",
   "name": "python",
   "nbconvert_exporter": "python",
   "pygments_lexer": "ipython3",
   "version": "3.9.12"
  }
 },
 "nbformat": 4,
 "nbformat_minor": 5
}
